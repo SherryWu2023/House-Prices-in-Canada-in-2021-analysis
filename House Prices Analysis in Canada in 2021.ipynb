{
 "cells": [
  {
   "cell_type": "markdown",
   "id": "aff399a5",
   "metadata": {},
   "source": [
    "#                               House Prices Analysis in Canada in 2021\n",
    "                                   "
   ]
  },
  {
   "cell_type": "markdown",
   "id": "daf8410a",
   "metadata": {},
   "source": [
    "## 1)Data Cleaning"
   ]
  },
  {
   "cell_type": "code",
   "execution_count": 1,
   "id": "035a6db7",
   "metadata": {},
   "outputs": [],
   "source": [
    "#Import libraries for data cleaning and visualization\n",
    "import pandas as pd\n",
    "import matplotlib.pyplot as plt\n",
    "import numpy as np\n",
    "import seaborn as sns"
   ]
  },
  {
   "cell_type": "code",
   "execution_count": 2,
   "id": "0e929850",
   "metadata": {},
   "outputs": [],
   "source": [
    "df=pd.read_csv(r\"C:\\Users\\syuan\\Downloads\\HouseListings-dropduplicatesandzerobath.csv\")"
   ]
  },
  {
   "cell_type": "code",
   "execution_count": 3,
   "id": "e89a77f6",
   "metadata": {},
   "outputs": [
    {
     "data": {
      "text/html": [
       "<div>\n",
       "<style scoped>\n",
       "    .dataframe tbody tr th:only-of-type {\n",
       "        vertical-align: middle;\n",
       "    }\n",
       "\n",
       "    .dataframe tbody tr th {\n",
       "        vertical-align: top;\n",
       "    }\n",
       "\n",
       "    .dataframe thead th {\n",
       "        text-align: right;\n",
       "    }\n",
       "</style>\n",
       "<table border=\"1\" class=\"dataframe\">\n",
       "  <thead>\n",
       "    <tr style=\"text-align: right;\">\n",
       "      <th></th>\n",
       "      <th>City</th>\n",
       "      <th>Price</th>\n",
       "      <th>Address</th>\n",
       "      <th>Number_Beds</th>\n",
       "      <th>Number_Baths</th>\n",
       "      <th>Province</th>\n",
       "      <th>Population</th>\n",
       "      <th>Latitude</th>\n",
       "      <th>Longitutde</th>\n",
       "      <th>Median_Family_Income</th>\n",
       "      <th>Unnamed: 10</th>\n",
       "    </tr>\n",
       "  </thead>\n",
       "  <tbody>\n",
       "    <tr>\n",
       "      <th>0</th>\n",
       "      <td>Toronto</td>\n",
       "      <td>779900.0</td>\n",
       "      <td>#318 -20 SOUTHPORT ST</td>\n",
       "      <td>3</td>\n",
       "      <td>2</td>\n",
       "      <td>Ontario</td>\n",
       "      <td>5647656</td>\n",
       "      <td>43.7417</td>\n",
       "      <td>-79.3733</td>\n",
       "      <td>97000.0</td>\n",
       "      <td>NaN</td>\n",
       "    </tr>\n",
       "    <tr>\n",
       "      <th>1</th>\n",
       "      <td>Toronto</td>\n",
       "      <td>799999.0</td>\n",
       "      <td>#818 -60 SOUTHPORT ST</td>\n",
       "      <td>3</td>\n",
       "      <td>1</td>\n",
       "      <td>Ontario</td>\n",
       "      <td>5647656</td>\n",
       "      <td>43.7417</td>\n",
       "      <td>-79.3733</td>\n",
       "      <td>97000.0</td>\n",
       "      <td>NaN</td>\n",
       "    </tr>\n",
       "    <tr>\n",
       "      <th>2</th>\n",
       "      <td>Toronto</td>\n",
       "      <td>799900.0</td>\n",
       "      <td>#714 -859 THE QUEENSWAY</td>\n",
       "      <td>2</td>\n",
       "      <td>2</td>\n",
       "      <td>Ontario</td>\n",
       "      <td>5647656</td>\n",
       "      <td>43.7417</td>\n",
       "      <td>-79.3733</td>\n",
       "      <td>97000.0</td>\n",
       "      <td>NaN</td>\n",
       "    </tr>\n",
       "    <tr>\n",
       "      <th>3</th>\n",
       "      <td>Toronto</td>\n",
       "      <td>1200000.0</td>\n",
       "      <td>275 MORTIMER AVE</td>\n",
       "      <td>4</td>\n",
       "      <td>2</td>\n",
       "      <td>Ontario</td>\n",
       "      <td>5647656</td>\n",
       "      <td>43.7417</td>\n",
       "      <td>-79.3733</td>\n",
       "      <td>97000.0</td>\n",
       "      <td>NaN</td>\n",
       "    </tr>\n",
       "    <tr>\n",
       "      <th>4</th>\n",
       "      <td>Toronto</td>\n",
       "      <td>668800.0</td>\n",
       "      <td>#420 -388 RICHMOND ST</td>\n",
       "      <td>1</td>\n",
       "      <td>1</td>\n",
       "      <td>Ontario</td>\n",
       "      <td>5647656</td>\n",
       "      <td>43.7417</td>\n",
       "      <td>-79.3733</td>\n",
       "      <td>97000.0</td>\n",
       "      <td>NaN</td>\n",
       "    </tr>\n",
       "  </tbody>\n",
       "</table>\n",
       "</div>"
      ],
      "text/plain": [
       "      City      Price                  Address Number_Beds Number_Baths  \\\n",
       "0  Toronto   779900.0    #318 -20 SOUTHPORT ST           3            2   \n",
       "1  Toronto   799999.0    #818 -60 SOUTHPORT ST           3            1   \n",
       "2  Toronto   799900.0  #714 -859 THE QUEENSWAY           2            2   \n",
       "3  Toronto  1200000.0         275 MORTIMER AVE           4            2   \n",
       "4  Toronto   668800.0    #420 -388 RICHMOND ST           1            1   \n",
       "\n",
       "  Province Population  Latitude  Longitutde  Median_Family_Income  Unnamed: 10  \n",
       "0  Ontario    5647656   43.7417    -79.3733               97000.0          NaN  \n",
       "1  Ontario    5647656   43.7417    -79.3733               97000.0          NaN  \n",
       "2  Ontario    5647656   43.7417    -79.3733               97000.0          NaN  \n",
       "3  Ontario    5647656   43.7417    -79.3733               97000.0          NaN  \n",
       "4  Ontario    5647656   43.7417    -79.3733               97000.0          NaN  "
      ]
     },
     "execution_count": 3,
     "metadata": {},
     "output_type": "execute_result"
    }
   ],
   "source": [
    "df.head()"
   ]
  },
  {
   "cell_type": "code",
   "execution_count": 4,
   "id": "ac6fd605",
   "metadata": {},
   "outputs": [],
   "source": [
    "#Drop the unknown column\n",
    "df=df.drop(df.columns[10],axis=1)"
   ]
  },
  {
   "cell_type": "code",
   "execution_count": 5,
   "id": "a5a07ac8",
   "metadata": {},
   "outputs": [],
   "source": [
    "#Correct a typo in the column name\n",
    "df=df.rename(columns={'Longitutde':'Longitude'})"
   ]
  },
  {
   "cell_type": "code",
   "execution_count": 6,
   "id": "07307922",
   "metadata": {},
   "outputs": [],
   "source": [
    "#Drop duplicates\n",
    "df.drop_duplicates(inplace=True)"
   ]
  },
  {
   "cell_type": "code",
   "execution_count": 7,
   "id": "cebe5843",
   "metadata": {},
   "outputs": [],
   "source": [
    "#Unify datatypes\n",
    "df['Number_Beds']=pd.to_numeric(df['Number_Beds'],errors='coerce')\n",
    "df['Number_Baths']=pd.to_numeric(df['Number_Baths'],errors='coerce')\n",
    "df['Population']=pd.to_numeric(df['Population'],errors='coerce')"
   ]
  },
  {
   "cell_type": "code",
   "execution_count": 8,
   "id": "fde6c876",
   "metadata": {},
   "outputs": [],
   "source": [
    "df=df.dropna(subset=['Number_Beds','Number_Baths','Population'])"
   ]
  },
  {
   "cell_type": "code",
   "execution_count": 9,
   "id": "918d5ebc",
   "metadata": {},
   "outputs": [],
   "source": [
    "#Drop rows with 'Latitude' and 'Longitude' data that indicates cities outside Canada \n",
    "df=df[(df['Latitude']>=42)& (df['Latitude'] <=83)]\n",
    "df=df[(df['Longitude']>=-141)& (df['Longitude'] <=-53)]"
   ]
  },
  {
   "cell_type": "code",
   "execution_count": 10,
   "id": "d6b73e0a",
   "metadata": {},
   "outputs": [
    {
     "name": "stdout",
     "output_type": "stream",
     "text": [
      "<class 'pandas.core.frame.DataFrame'>\n",
      "Index: 31978 entries, 0 to 32635\n",
      "Data columns (total 10 columns):\n",
      " #   Column                Non-Null Count  Dtype  \n",
      "---  ------                --------------  -----  \n",
      " 0   City                  31978 non-null  object \n",
      " 1   Price                 31978 non-null  float64\n",
      " 2   Address               31978 non-null  object \n",
      " 3   Number_Beds           31978 non-null  float64\n",
      " 4   Number_Baths          31978 non-null  float64\n",
      " 5   Province              31978 non-null  object \n",
      " 6   Population            31978 non-null  float64\n",
      " 7   Latitude              31978 non-null  float64\n",
      " 8   Longitude             31978 non-null  float64\n",
      " 9   Median_Family_Income  31978 non-null  float64\n",
      "dtypes: float64(7), object(3)\n",
      "memory usage: 2.7+ MB\n"
     ]
    }
   ],
   "source": [
    "df.info()"
   ]
  },
  {
   "cell_type": "code",
   "execution_count": 11,
   "id": "eb0411b0",
   "metadata": {},
   "outputs": [
    {
     "data": {
      "text/plain": [
       "City                       43\n",
       "Price                    4293\n",
       "Address                 30154\n",
       "Number_Beds                31\n",
       "Number_Baths               21\n",
       "Province                    7\n",
       "Population                 43\n",
       "Latitude                   43\n",
       "Longitude                  42\n",
       "Median_Family_Income       31\n",
       "dtype: int64"
      ]
     },
     "execution_count": 11,
     "metadata": {},
     "output_type": "execute_result"
    }
   ],
   "source": [
    "df.nunique()"
   ]
  },
  {
   "cell_type": "code",
   "execution_count": 12,
   "id": "9df43569",
   "metadata": {},
   "outputs": [
    {
     "data": {
      "text/plain": [
       "array(['Toronto', 'Vancouver', 'Calgary', 'Edmonton', 'Ottawa',\n",
       "       'Winnipeg', 'Hamilton', 'Kitchener', 'London', 'St. Catharines',\n",
       "       'Oshawa', 'Victoria', 'Windsor', 'Saskatoon', 'Regina', 'Barrie',\n",
       "       'Kelowna', 'Abbotsford', 'Sudbury', 'Kingston', 'Guelph',\n",
       "       'Moncton', 'Brantford', 'Thunder Bay', 'Saint John',\n",
       "       'Peterborough', 'Red Deer', 'Kamloops', 'Nanaimo', 'Lethbridge',\n",
       "       'White Rock', 'Maple Ridge', 'Prince George', 'Sault Ste. Marie',\n",
       "       'Medicine Hat', 'New Westminster', 'Caledon', 'Burnaby', 'Airdrie',\n",
       "       'Montreal', 'Sherbrooke', 'Quebec', 'Trois-Rivieres'], dtype=object)"
      ]
     },
     "execution_count": 12,
     "metadata": {},
     "output_type": "execute_result"
    }
   ],
   "source": [
    "df['City'].unique()"
   ]
  },
  {
   "cell_type": "code",
   "execution_count": 13,
   "id": "c2797354",
   "metadata": {},
   "outputs": [
    {
     "data": {
      "text/plain": [
       "Province\n",
       "Alberta             [Calgary, Edmonton, Red Deer, Lethbridge, Medi...\n",
       "British Columbia    [Vancouver, Victoria, Kelowna, Abbotsford, Kam...\n",
       "Manitoba                                                   [Winnipeg]\n",
       "New Brunswick                                   [Moncton, Saint John]\n",
       "Ontario             [Toronto, Ottawa, Winnipeg, Hamilton, Kitchene...\n",
       "Quebec                 [Montreal, Sherbrooke, Quebec, Trois-Rivieres]\n",
       "Saskatchewan                                      [Saskatoon, Regina]\n",
       "Name: City, dtype: object"
      ]
     },
     "execution_count": 13,
     "metadata": {},
     "output_type": "execute_result"
    }
   ],
   "source": [
    "grouped_cities=df.groupby('Province')['City'].unique()\n",
    "grouped_cities"
   ]
  },
  {
   "cell_type": "code",
   "execution_count": 14,
   "id": "045bdee6",
   "metadata": {},
   "outputs": [
    {
     "data": {
      "text/plain": [
       "array(['Calgary', 'Edmonton', 'Red Deer', 'Lethbridge', 'Medicine Hat',\n",
       "       'Airdrie'], dtype=object)"
      ]
     },
     "execution_count": 14,
     "metadata": {},
     "output_type": "execute_result"
    }
   ],
   "source": [
    "grouped_cities['Alberta']"
   ]
  },
  {
   "cell_type": "code",
   "execution_count": 15,
   "id": "8c1624fc",
   "metadata": {},
   "outputs": [
    {
     "data": {
      "text/plain": [
       "array(['Vancouver', 'Victoria', 'Kelowna', 'Abbotsford', 'Kamloops',\n",
       "       'Nanaimo', 'White Rock', 'Maple Ridge', 'Prince George',\n",
       "       'New Westminster', 'Burnaby'], dtype=object)"
      ]
     },
     "execution_count": 15,
     "metadata": {},
     "output_type": "execute_result"
    }
   ],
   "source": [
    "grouped_cities['British Columbia']"
   ]
  },
  {
   "cell_type": "code",
   "execution_count": 16,
   "id": "b37ac0be",
   "metadata": {},
   "outputs": [
    {
     "data": {
      "text/plain": [
       "array(['Toronto', 'Ottawa', 'Winnipeg', 'Hamilton', 'Kitchener', 'London',\n",
       "       'St. Catharines', 'Oshawa', 'Windsor', 'Saskatoon', 'Regina',\n",
       "       'Barrie', 'Sudbury', 'Kingston', 'Guelph', 'Brantford',\n",
       "       'Thunder Bay', 'Peterborough', 'Sault Ste. Marie', 'Caledon'],\n",
       "      dtype=object)"
      ]
     },
     "execution_count": 16,
     "metadata": {},
     "output_type": "execute_result"
    }
   ],
   "source": [
    "grouped_cities['Ontario']"
   ]
  },
  {
   "cell_type": "code",
   "execution_count": 17,
   "id": "8c7f0278",
   "metadata": {},
   "outputs": [],
   "source": [
    "#Correct data entry mistakes\n",
    "df.loc[df['City']=='Winnipeg','Province']='Manitoba'\n",
    "df.loc[df['City']=='Saskatoon','Province']='Saskatchewan'\n",
    "df.loc[df['City']=='Regina','Province']='Saskatchewan'"
   ]
  },
  {
   "cell_type": "markdown",
   "id": "0e54cb3c",
   "metadata": {},
   "source": [
    "## 2)Exploratory Data Analysis\n"
   ]
  },
  {
   "cell_type": "markdown",
   "id": "2f9b3f33",
   "metadata": {},
   "source": [
    "### Question 1---Houses in which province are the most expensive? "
   ]
  },
  {
   "cell_type": "code",
   "execution_count": 18,
   "id": "1bdd5458",
   "metadata": {},
   "outputs": [
    {
     "data": {
      "text/plain": [
       "Province\n",
       "Alberta             5.329808e+05\n",
       "British Columbia    1.369638e+06\n",
       "Manitoba            4.821402e+05\n",
       "New Brunswick       4.266086e+05\n",
       "Ontario             9.569191e+05\n",
       "Quebec              6.022337e+05\n",
       "Saskatchewan        4.041216e+05\n",
       "Name: Price, dtype: float64"
      ]
     },
     "execution_count": 18,
     "metadata": {},
     "output_type": "execute_result"
    }
   ],
   "source": [
    "df.groupby('Province')['Price'].mean()"
   ]
  },
  {
   "cell_type": "markdown",
   "id": "c5f34aee",
   "metadata": {},
   "source": [
    "According to the average prices of each province,houeses in British Columbia (BC) are the most expensive."
   ]
  },
  {
   "cell_type": "markdown",
   "id": "95816d6a",
   "metadata": {},
   "source": [
    "### Question 2---Houses in which city are the most expensive?"
   ]
  },
  {
   "cell_type": "code",
   "execution_count": 19,
   "id": "3f6e5555",
   "metadata": {},
   "outputs": [
    {
     "data": {
      "text/plain": [
       "Province\n",
       "Alberta              3819\n",
       "British Columbia    10964\n",
       "Manitoba              476\n",
       "New Brunswick         510\n",
       "Ontario             13750\n",
       "Quebec                569\n",
       "Saskatchewan         1890\n",
       "Name: City, dtype: int64"
      ]
     },
     "execution_count": 19,
     "metadata": {},
     "output_type": "execute_result"
    }
   ],
   "source": [
    "province_city_count = df.groupby('Province')['City'].count()\n",
    "province_city_count"
   ]
  },
  {
   "cell_type": "code",
   "execution_count": 20,
   "id": "00f9697e",
   "metadata": {},
   "outputs": [
    {
     "data": {
      "text/plain": [
       "City\n",
       "White Rock    2.221587e+06\n",
       "Name: Price, dtype: float64"
      ]
     },
     "execution_count": 20,
     "metadata": {},
     "output_type": "execute_result"
    }
   ],
   "source": [
    "df.groupby('City')['Price'].mean().nlargest(1)"
   ]
  },
  {
   "cell_type": "markdown",
   "id": "a64ad605",
   "metadata": {},
   "source": [
    "According to the average prices of each city,houeses in White Rock (BC) are the most expensive. "
   ]
  },
  {
   "cell_type": "markdown",
   "id": "7a103058",
   "metadata": {},
   "source": [
    "### Question 3---What is the average house price a family with each median income bracket of 10000 possesses ? "
   ]
  },
  {
   "cell_type": "code",
   "execution_count": 21,
   "id": "12b9ecf6",
   "metadata": {},
   "outputs": [
    {
     "data": {
      "text/html": [
       "<div>\n",
       "<style scoped>\n",
       "    .dataframe tbody tr th:only-of-type {\n",
       "        vertical-align: middle;\n",
       "    }\n",
       "\n",
       "    .dataframe tbody tr th {\n",
       "        vertical-align: top;\n",
       "    }\n",
       "\n",
       "    .dataframe thead th {\n",
       "        text-align: right;\n",
       "    }\n",
       "</style>\n",
       "<table border=\"1\" class=\"dataframe\">\n",
       "  <thead>\n",
       "    <tr style=\"text-align: right;\">\n",
       "      <th></th>\n",
       "      <th>Price</th>\n",
       "      <th>Number_Beds</th>\n",
       "      <th>Number_Baths</th>\n",
       "      <th>Population</th>\n",
       "      <th>Latitude</th>\n",
       "      <th>Longitude</th>\n",
       "      <th>Median_Family_Income</th>\n",
       "    </tr>\n",
       "  </thead>\n",
       "  <tbody>\n",
       "    <tr>\n",
       "      <th>count</th>\n",
       "      <td>3.197800e+04</td>\n",
       "      <td>31978.000000</td>\n",
       "      <td>31978.000000</td>\n",
       "      <td>3.197800e+04</td>\n",
       "      <td>31978.000000</td>\n",
       "      <td>31978.000000</td>\n",
       "      <td>31978.000000</td>\n",
       "    </tr>\n",
       "    <tr>\n",
       "      <th>mean</th>\n",
       "      <td>9.932872e+05</td>\n",
       "      <td>3.339296</td>\n",
       "      <td>2.597129</td>\n",
       "      <td>6.734952e+05</td>\n",
       "      <td>47.269418</td>\n",
       "      <td>-99.835620</td>\n",
       "      <td>90141.672400</td>\n",
       "    </tr>\n",
       "    <tr>\n",
       "      <th>std</th>\n",
       "      <td>1.047240e+06</td>\n",
       "      <td>1.726713</td>\n",
       "      <td>1.364135</td>\n",
       "      <td>1.165726e+06</td>\n",
       "      <td>3.350853</td>\n",
       "      <td>20.210799</td>\n",
       "      <td>12475.176374</td>\n",
       "    </tr>\n",
       "    <tr>\n",
       "      <th>min</th>\n",
       "      <td>2.150000e+04</td>\n",
       "      <td>0.000000</td>\n",
       "      <td>1.000000</td>\n",
       "      <td>6.338200e+04</td>\n",
       "      <td>42.283300</td>\n",
       "      <td>-123.936400</td>\n",
       "      <td>62400.000000</td>\n",
       "    </tr>\n",
       "    <tr>\n",
       "      <th>25%</th>\n",
       "      <td>4.999000e+05</td>\n",
       "      <td>2.000000</td>\n",
       "      <td>2.000000</td>\n",
       "      <td>1.091670e+05</td>\n",
       "      <td>43.866700</td>\n",
       "      <td>-122.600000</td>\n",
       "      <td>82000.000000</td>\n",
       "    </tr>\n",
       "    <tr>\n",
       "      <th>50%</th>\n",
       "      <td>7.389500e+05</td>\n",
       "      <td>3.000000</td>\n",
       "      <td>2.000000</td>\n",
       "      <td>2.491250e+05</td>\n",
       "      <td>48.428300</td>\n",
       "      <td>-104.606700</td>\n",
       "      <td>89000.000000</td>\n",
       "    </tr>\n",
       "    <tr>\n",
       "      <th>75%</th>\n",
       "      <td>1.149000e+06</td>\n",
       "      <td>4.000000</td>\n",
       "      <td>3.000000</td>\n",
       "      <td>7.295600e+05</td>\n",
       "      <td>49.694200</td>\n",
       "      <td>-79.866700</td>\n",
       "      <td>97000.000000</td>\n",
       "    </tr>\n",
       "    <tr>\n",
       "      <th>max</th>\n",
       "      <td>3.700000e+07</td>\n",
       "      <td>109.000000</td>\n",
       "      <td>59.000000</td>\n",
       "      <td>5.647656e+06</td>\n",
       "      <td>53.916900</td>\n",
       "      <td>-64.771400</td>\n",
       "      <td>133000.000000</td>\n",
       "    </tr>\n",
       "  </tbody>\n",
       "</table>\n",
       "</div>"
      ],
      "text/plain": [
       "              Price   Number_Beds  Number_Baths    Population      Latitude  \\\n",
       "count  3.197800e+04  31978.000000  31978.000000  3.197800e+04  31978.000000   \n",
       "mean   9.932872e+05      3.339296      2.597129  6.734952e+05     47.269418   \n",
       "std    1.047240e+06      1.726713      1.364135  1.165726e+06      3.350853   \n",
       "min    2.150000e+04      0.000000      1.000000  6.338200e+04     42.283300   \n",
       "25%    4.999000e+05      2.000000      2.000000  1.091670e+05     43.866700   \n",
       "50%    7.389500e+05      3.000000      2.000000  2.491250e+05     48.428300   \n",
       "75%    1.149000e+06      4.000000      3.000000  7.295600e+05     49.694200   \n",
       "max    3.700000e+07    109.000000     59.000000  5.647656e+06     53.916900   \n",
       "\n",
       "          Longitude  Median_Family_Income  \n",
       "count  31978.000000          31978.000000  \n",
       "mean     -99.835620          90141.672400  \n",
       "std       20.210799          12475.176374  \n",
       "min     -123.936400          62400.000000  \n",
       "25%     -122.600000          82000.000000  \n",
       "50%     -104.606700          89000.000000  \n",
       "75%      -79.866700          97000.000000  \n",
       "max      -64.771400         133000.000000  "
      ]
     },
     "execution_count": 21,
     "metadata": {},
     "output_type": "execute_result"
    }
   ],
   "source": [
    "df.describe()"
   ]
  },
  {
   "cell_type": "code",
   "execution_count": 22,
   "id": "61fcab2a",
   "metadata": {},
   "outputs": [
    {
     "name": "stdout",
     "output_type": "stream",
     "text": [
      "       Median_Family_Income IncomeCategory\n",
      "0                   97000.0   90001-100000\n",
      "1                   97000.0   90001-100000\n",
      "2                   97000.0   90001-100000\n",
      "3                   97000.0   90001-100000\n",
      "4                   97000.0   90001-100000\n",
      "...                     ...            ...\n",
      "32631               62400.0    60001-70000\n",
      "32632               62400.0    60001-70000\n",
      "32633               62400.0    60001-70000\n",
      "32634               62400.0    60001-70000\n",
      "32635               62400.0    60001-70000\n",
      "\n",
      "[31978 rows x 2 columns]\n"
     ]
    }
   ],
   "source": [
    "#Categorize Median_Family_Income\n",
    "\n",
    "income_ranges=[(60000,70000),(70000,80000),(80000,90000),(90000,100000),(100000,110000),(110000,120000),(120000,130000),(130000,140000)]\n",
    "bins= [low - 1 for (low, high) in income_ranges] + [income_ranges[-1][1]]\n",
    "income_labels = [f'{low + 1}-{high}' for (low, high) in income_ranges]\n",
    "df['IncomeCategory'] = pd.cut(df['Median_Family_Income'], bins=bins, labels=income_labels)\n",
    "print(df[['Median_Family_Income', 'IncomeCategory']])\n"
   ]
  },
  {
   "cell_type": "code",
   "execution_count": 23,
   "id": "8b93d356",
   "metadata": {},
   "outputs": [],
   "source": [
    "#Calculate the average price of house possessed by families in each income bracket\n",
    "df['avg_price_incomecategory']=df.groupby('IncomeCategory')['Price'].transform('mean')"
   ]
  },
  {
   "cell_type": "code",
   "execution_count": 24,
   "id": "ee21e8ec",
   "metadata": {},
   "outputs": [
    {
     "data": {
      "image/png": "[encoded data removed]",
      "text/plain": [
       "<Figure size 1000x600 with 1 Axes>"
      ]
     },
     "metadata": {},
     "output_type": "display_data"
    }
   ],
   "source": [
    "#Visiualize the relationship between median income and house price\n",
    "plt.figure(figsize=(10, 6))\n",
    "income_order = df['IncomeCategory'].unique()\n",
    "df['IncomeCategory'] = pd.Categorical(df['IncomeCategory'], categories=income_order[::-1], ordered=True)\n",
    "sns.lineplot(x='avg_price_incomecategory', y='IncomeCategory', data=df, marker='o')\n",
    "plt.xlabel('Average Price')\n",
    "plt.ylabel('Income Category')\n",
    "plt.title('Average Price vs. Income Category')\n",
    "plt.show()"
   ]
  },
  {
   "cell_type": "markdown",
   "id": "b9bf48dc",
   "metadata": {},
   "source": [
    "Families with income between 70k-80k seem to hold relatively expensive houses while those with income between 110k-120k seem to hold relatively low-priced houses.The reason is worth exploring further."
   ]
  },
  {
   "cell_type": "markdown",
   "id": "b4a86669",
   "metadata": {},
   "source": [
    "### Question 4---Average House-price-to-Income ratio for families in different cities? Houses in which city is the most and least affordable respectively?"
   ]
  },
  {
   "cell_type": "code",
   "execution_count": 25,
   "id": "4a326639",
   "metadata": {},
   "outputs": [],
   "source": [
    "df['HousepricetoIncome']=df['Price']/df['Median_Family_Income']\n",
    "avg=df.groupby('City')['HousepricetoIncome'].mean()\n",
    "most_affordable=df.groupby('City')['HousepricetoIncome'].mean().nsmallest(1)\n",
    "least_affordable=df.groupby('City')['HousepricetoIncome'].mean().nlargest(1)"
   ]
  },
  {
   "cell_type": "code",
   "execution_count": 26,
   "id": "be2be285",
   "metadata": {},
   "outputs": [
    {
     "name": "stdout",
     "output_type": "stream",
     "text": [
      "Most affordable  City\n",
      "Regina    3.753198\n",
      "Name: HousepricetoIncome, dtype: float64\n"
     ]
    }
   ],
   "source": [
    "print('Most affordable ',most_affordable)"
   ]
  },
  {
   "cell_type": "code",
   "execution_count": 27,
   "id": "e2537e05",
   "metadata": {},
   "outputs": [
    {
     "name": "stdout",
     "output_type": "stream",
     "text": [
      "Least affordable City\n",
      "White Rock    30.432704\n",
      "Name: HousepricetoIncome, dtype: float64\n"
     ]
    }
   ],
   "source": [
    "print('Least affordable',least_affordable)"
   ]
  },
  {
   "cell_type": "markdown",
   "id": "ce09d7f6",
   "metadata": {},
   "source": [
    "### Question 5---What are the average prices for a 3-bedroom & 3-bath house among different province? "
   ]
  },
  {
   "cell_type": "code",
   "execution_count": 28,
   "id": "7b83bf70",
   "metadata": {},
   "outputs": [
    {
     "data": {
      "text/plain": [
       "Province\n",
       "Alberta             5.837250e+05\n",
       "British Columbia    1.331687e+06\n",
       "Manitoba            5.179460e+05\n",
       "New Brunswick       4.758615e+05\n",
       "Ontario             9.077782e+05\n",
       "Quebec              6.976667e+05\n",
       "Saskatchewan        4.898683e+05\n",
       "Name: Price, dtype: float64"
      ]
     },
     "execution_count": 28,
     "metadata": {},
     "output_type": "execute_result"
    }
   ],
   "source": [
    "df[(df['Number_Beds']==3) &(df['Number_Baths']==3)].groupby('Province')['Price'].mean()"
   ]
  },
  {
   "cell_type": "markdown",
   "id": "3dc3aa89",
   "metadata": {},
   "source": [
    "### Question 6--What is the average number of rooms most houses have in different city and province? "
   ]
  },
  {
   "cell_type": "code",
   "execution_count": 29,
   "id": "97074446",
   "metadata": {},
   "outputs": [
    {
     "data": {
      "text/plain": [
       "City              Province        \n",
       "Abbotsford        British Columbia    3.842457\n",
       "Airdrie           Alberta             3.635556\n",
       "Barrie            Ontario             3.553661\n",
       "Brantford         Ontario             3.721044\n",
       "Burnaby           British Columbia    2.531801\n",
       "Caledon           Ontario             4.012048\n",
       "Calgary           Alberta             3.188795\n",
       "Edmonton          Alberta             3.122044\n",
       "Guelph            Ontario             3.312500\n",
       "Hamilton          Ontario             3.473851\n",
       "Kamloops          British Columbia    3.426304\n",
       "Kelowna           British Columbia    3.234326\n",
       "Kingston          Ontario             3.505353\n",
       "Kitchener         Ontario             3.424111\n",
       "Lethbridge        Alberta             3.465608\n",
       "London            Ontario             3.608596\n",
       "Maple Ridge       British Columbia    3.553292\n",
       "Medicine Hat      Alberta             3.516245\n",
       "Moncton           New Brunswick       3.531863\n",
       "Montreal          Quebec              3.625000\n",
       "Nanaimo           British Columbia    3.284698\n",
       "New Westminster   British Columbia    2.973465\n",
       "Oshawa            Ontario             3.788641\n",
       "Ottawa            Ontario             2.952425\n",
       "Peterborough      Ontario             3.695082\n",
       "Prince George     British Columbia    3.834983\n",
       "Quebec            Quebec              3.146597\n",
       "Red Deer          Alberta             3.535385\n",
       "Regina            Saskatchewan        3.164271\n",
       "Saint John        New Brunswick       3.490196\n",
       "Saskatoon         Saskatchewan        3.304585\n",
       "Sault Ste. Marie  Ontario             3.250000\n",
       "Sherbrooke        Quebec              3.715278\n",
       "St. Catharines    Ontario             3.566828\n",
       "Sudbury           Ontario             3.628141\n",
       "Thunder Bay       Ontario             3.266234\n",
       "Toronto           Ontario             2.696612\n",
       "Trois-Rivieres    Quebec              3.439394\n",
       "Vancouver         British Columbia    2.776489\n",
       "Victoria          British Columbia    2.998428\n",
       "White Rock        British Columbia    3.703767\n",
       "Windsor           Ontario             3.724860\n",
       "Winnipeg          Manitoba            3.153361\n",
       "Name: Number_Beds, dtype: float64"
      ]
     },
     "execution_count": 29,
     "metadata": {},
     "output_type": "execute_result"
    }
   ],
   "source": [
    "df.groupby(['City','Province'])['Number_Beds'].mean()"
   ]
  },
  {
   "cell_type": "markdown",
   "id": "5631f247",
   "metadata": {},
   "source": [
    "### Question 7---Relationships between prices and number of beds/baths and income"
   ]
  },
  {
   "cell_type": "code",
   "execution_count": 30,
   "id": "b1dfd33d",
   "metadata": {},
   "outputs": [
    {
     "data": {
      "image/png": "[encoded data removed]",
      "text/plain": [
       "<Figure size 640x480 with 2 Axes>"
      ]
     },
     "metadata": {},
     "output_type": "display_data"
    }
   ],
   "source": [
    "correlation_matrix = df[['Price', 'Number_Beds', 'Number_Baths', 'Median_Family_Income']].corr()\n",
    "sns.heatmap(correlation_matrix, annot=True, cmap='GnBu', linewidths=.5)\n",
    "plt.title('Correlation Heatmap')\n",
    "plt.show()"
   ]
  },
  {
   "cell_type": "markdown",
   "id": "e2a49185",
   "metadata": {},
   "source": [
    "According to this dataset,house price has relatively high correlation with number of baths among number of beds,baths and income."
   ]
  },
  {
   "cell_type": "code",
   "execution_count": 31,
   "id": "d5bc1d93",
   "metadata": {},
   "outputs": [],
   "source": [
    "df.to_csv('houseca_file.csv', index=False)"
   ]
  },
  {
   "cell_type": "code",
   "execution_count": null,
   "id": "2957f1f7",
   "metadata": {},
   "outputs": [],
   "source": []
  }
 ],
 "metadata": {
  "kernelspec": {
   "display_name": "Python 3 (ipykernel)",
   "language": "python",
   "name": "python3"
  },
  "language_info": {
   "codemirror_mode": {
    "name": "ipython",
    "version": 3
   },
   "file_extension": ".py",
   "mimetype": "text/x-python",
   "name": "python",
   "nbconvert_exporter": "python",
   "pygments_lexer": "ipython3",
   "version": "3.11.5"
  },
  "widgets": {
   "application/vnd.jupyter.widget-state+json": {
    "state": {},
    "version_major": 2,
    "version_minor": 0
   }
  }
 },
 "nbformat": 4,
 "nbformat_minor": 5
}
